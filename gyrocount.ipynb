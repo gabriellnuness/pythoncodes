{
 "cells": [
  {
   "cell_type": "markdown",
   "metadata": {},
   "source": [
    "This script provides the options available of a gyroscope parameters given a length of optical fiber available.\n",
    "The output are the diameter (D) and the height (H)."
   ]
  },
  {
   "cell_type": "code",
   "execution_count": 5,
   "metadata": {},
   "outputs": [],
   "source": [
    "# Importing libraries\n",
    "import numpy as np"
   ]
  },
  {
   "cell_type": "code",
   "execution_count": 6,
   "metadata": {},
   "outputs": [],
   "source": [
    "# Optical fiber constants\n",
    "d_f = 152e-6 #  fiber diameter\n",
    "l = 700 # fiber length"
   ]
  },
  {
   "cell_type": "markdown",
   "metadata": {},
   "source": [
    "## Calculations\n",
    "\n",
    "The length of one loop of a generic layer is:\n",
    "$$ l = 2 {\\cdot} \\pi {\\cdot} r = \\pi {\\cdot} D $$\n",
    "\n",
    "Considering that the optical fibers are aligned by their cores on top of each layer, the first, the second and the third layers can be represented in terms of the fiber outer diameter $(D_f)$ and the coil diameter $(D_c)$:\n",
    "$$ l_1 = \\pi (D_c + D_f), $$ \n",
    "$$ l_2 = \\pi (D_c + 3D_f), $$ \n",
    "$$ l_3 = \\pi (D_c + 5D_f). $$ \n",
    "\n",
    "Therefore, the length of the n-th layer is\n",
    "$$ l_n = \\pi \\, \\left(\\, D_c + [2n-1]D_f \\, \\right), $$\n",
    "and the total length of optical fiber until the n-th layer is\n",
    "$$ {l_n}_{Total} = \\pi \\left( n{\\cdot}D + n^2 {\\cdot} D_f\\right). $$\n",
    "\n",
    "However, the optical fiber do not stay aligned on top of the previous layer, it slides in between two adjacent optical fibers due to its circular geometry (front view).\n",
    "\n",
    "\n"
   ]
  },
  {
   "cell_type": "code",
   "execution_count": 17,
   "metadata": {},
   "outputs": [
    {
     "data": {
      "text/plain": [
       "(50, 0.25, 0.000152, 0.8326728496486675)"
      ]
     },
     "execution_count": 17,
     "metadata": {},
     "output_type": "execute_result"
    }
   ],
   "source": [
    "# Calculations\n",
    "\n",
    "n = 50# number of layer\n",
    "D = 25e-2\n",
    "\n",
    "l = np.pi*(D + (2*n-1)*d_f)\n",
    "\n",
    "n,D, d_f, l \n",
    "#L # layer\n",
    "#N # number of loop by layer\n",
    "#D # coil \n",
    "#H # height of coil"
   ]
  }
 ],
 "metadata": {
  "interpreter": {
   "hash": "ecf5722fdaf1897a315d257d89d94520bfcaa453217d5becf09b39e73618b0de"
  },
  "kernelspec": {
   "display_name": "Python 3.9.5 64-bit ('base': conda)",
   "language": "python",
   "name": "python3"
  },
  "language_info": {
   "codemirror_mode": {
    "name": "ipython",
    "version": 3
   },
   "file_extension": ".py",
   "mimetype": "text/x-python",
   "name": "python",
   "nbconvert_exporter": "python",
   "pygments_lexer": "ipython3",
   "version": "3.8.8"
  },
  "orig_nbformat": 4
 },
 "nbformat": 4,
 "nbformat_minor": 2
}
